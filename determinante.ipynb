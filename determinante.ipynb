{
 "cells": [
  {
   "cell_type": "code",
   "execution_count": 39,
   "metadata": {},
   "outputs": [
    {
     "name": "stdout",
     "output_type": "stream",
     "text": [
      "The autoreload extension is already loaded. To reload it, use:\n",
      "  %reload_ext autoreload\n"
     ]
    }
   ],
   "source": [
    "%load_ext autoreload"
   ]
  },
  {
   "cell_type": "markdown",
   "metadata": {},
   "source": [
    "# Examen"
   ]
  },
  {
   "cell_type": "code",
   "execution_count": 44,
   "metadata": {},
   "outputs": [],
   "source": [
    "A = [\n",
    "    [-4, 2, -4, -4, 1, 2, 5, 3, 5, 1],\n",
    "    [1, 0, 4, 3, 0, -2, 3, 0, 1, 5],\n",
    "    [5, 5, -4, 5, -4, 2, 2, 2, 4, 4],\n",
    "    [-1, 3, 4, -1, -4, 0, 5, 0, 0, 5],\n",
    "    [4, 1, 4, 2, 0, 0, 3, -1, 0, 2],\n",
    "    [2, -2, 1, -1, -2, -3, 2, -2, 4, -1],\n",
    "    [3, -2, -3, -2, -1, -3, 5, -1, 5, 0],\n",
    "    [3, 4, -3, 3, -2, 2, -4, -4, 1, 5],\n",
    "    [-4, 0, 3, 3, -3, -2, -2, 0, 5, -4],\n",
    "    [-2, 4, 4, -2, -1, 1, 5, -1, 3, -3],\n",
    "]"
   ]
  },
  {
   "cell_type": "code",
   "execution_count": 49,
   "metadata": {},
   "outputs": [
    {
     "name": "stdout",
     "output_type": "stream",
     "text": [
      "[07-19 21:39:21][INFO] 2024-07-19 21:39:21.787037\n",
      "[07-19 21:39:21][INFO] 2024-07-19 21:39:21.789447\n",
      "[07-19 21:39:21][INFO] 2024-07-19 21:39:21.790446\n"
     ]
    }
   ],
   "source": [
    "%autoreload 2\n",
    "from src import (\n",
    "    eliminacion_gaussiana,\n",
    "    descomposicion_LU,\n",
    "    resolver_LU,\n",
    "    matriz_aumentada,\n",
    "    separar_m_aumentada,\n",
    ")\n",
    "\n",
    "\n",
    "# ####################################################################\n",
    "def calc_determinante(A: list[list[float]]) -> float:\n",
    "    \"\"\"Función que calcula el determinante usando el método\n",
    "    [Descomposición LU, eliminación gaussiana, Gauss-Jordan, Gauss-Jacobi o Gauss-Seidel]\n",
    "\n",
    "    ## Parameters\n",
    "    ``A``: Matriz cuadrada de tamaño n x n\n",
    "\n",
    "    ## Return\n",
    "    ``detA``: Determinante de la matriz A\n",
    "\n",
    "    \"\"\"\n",
    "    n = len(A)\n",
    "    \n",
    "    U = [row[:] for row in A]\n",
    "    detA = 1\n",
    "    for i in range(n):\n",
    "        max_row = i\n",
    "        for k in range(i + 1, n):\n",
    "            if abs(U[k][i]) > abs(U[max_row][i]):\n",
    "                max_row = k\n",
    "        if i != max_row:\n",
    "            U[i], U[max_row] = U[max_row], U[i]\n",
    "            detA *= -1\n",
    "        if U[i][i] == 0:\n",
    "            return 0\n",
    "        for k in range(i + 1, n):\n",
    "            factor = U[k][i] / U[i][i]\n",
    "            for j in range(i, n):\n",
    "                U[k][j] -= factor * U[i][j]\n",
    "    for i in range(n):\n",
    "        detA *= U[i][i]\n",
    "    return detA\n",
    "    return"
   ]
  },
  {
   "cell_type": "code",
   "execution_count": 51,
   "metadata": {},
   "outputs": [
    {
     "data": {
      "text/plain": [
       "9912776.0"
      ]
     },
     "execution_count": 51,
     "metadata": {},
     "output_type": "execute_result"
    }
   ],
   "source": [
    "calc_determinante(A)"
   ]
  },
  {
   "cell_type": "code",
   "execution_count": 53,
   "metadata": {},
   "outputs": [],
   "source": [
    "A2=[\n",
    "    [2,2,4,5,-2,-3,2,-2],\n",
    "    [-1,-1,3,2,1,1,-4,4],\n",
    "    [2,5,-3,-3,-2,2,5,3],\n",
    "    [-2,-4,0,1,-1,5,-4,-1],\n",
    "    [1,-2,-1,5,5,2,1,-2],\n",
    "    [5,4,0,3,4,-1,-3,-2],\n",
    "    [4,-4,1,2,3,3,-1,3],\n",
    "    [-2,1,-3,0,5,4,4,-4]\n",
    "\n",
    "\n",
    "\n",
    "    \n",
    "]"
   ]
  },
  {
   "cell_type": "code",
   "execution_count": 55,
   "metadata": {},
   "outputs": [
    {
     "data": {
      "text/plain": [
       "2341546.0"
      ]
     },
     "execution_count": 55,
     "metadata": {},
     "output_type": "execute_result"
    }
   ],
   "source": [
    "calc_determinante(A2)"
   ]
  }
 ],
 "metadata": {
  "kernelspec": {
   "display_name": "Python 3 (ipykernel)",
   "language": "python",
   "name": "python3"
  },
  "language_info": {
   "codemirror_mode": {
    "name": "ipython",
    "version": 3
   },
   "file_extension": ".py",
   "mimetype": "text/x-python",
   "name": "python",
   "nbconvert_exporter": "python",
   "pygments_lexer": "ipython3",
   "version": "3.10.14"
  }
 },
 "nbformat": 4,
 "nbformat_minor": 4
}
